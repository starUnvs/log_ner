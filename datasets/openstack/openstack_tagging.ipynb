{
 "metadata": {
  "language_info": {
   "codemirror_mode": {
    "name": "ipython",
    "version": 3
   },
   "file_extension": ".py",
   "mimetype": "text/x-python",
   "name": "python",
   "nbconvert_exporter": "python",
   "pygments_lexer": "ipython3",
   "version": "3.7.10"
  },
  "orig_nbformat": 2,
  "kernelspec": {
   "name": "python3",
   "display_name": "Python 3.7.10 64-bit ('torch': conda)"
  },
  "interpreter": {
   "hash": "92b177ae525d99aefec57d1e05087defe35c515de2a950e481ffeaeb3a04b84b"
  }
 },
 "nbformat": 4,
 "nbformat_minor": 2,
 "cells": [
  {
   "cell_type": "code",
   "execution_count": 2,
   "metadata": {},
   "outputs": [],
   "source": [
    "import regex as re\n",
    "import pandas as pd"
   ]
  },
  {
   "cell_type": "code",
   "execution_count": 3,
   "metadata": {},
   "outputs": [],
   "source": [
    "f=open('./openstack_10k.log')\n",
    "lines=f.readlines()"
   ]
  },
  {
   "cell_type": "code",
   "execution_count": 4,
   "metadata": {},
   "outputs": [],
   "source": [
    "split_pt=re.compile(r'([,\\s$@<>\\[\\]\\'\"=]|\\((?!\\))|(?<!\\()\\)|[:\\.](?=\\s)|(?<=\\b[a-zA-Z]+):|:(?=[a-zA-Z]+\\b))')\n",
    "hm_pt=re.compile(r'(^(?:\\S+\\s){6})(.*)')"
   ]
  },
  {
   "cell_type": "code",
   "execution_count": 5,
   "metadata": {},
   "outputs": [],
   "source": [
    "header=[]\n",
    "msg=[]\n",
    "for line in lines:\n",
    "    h,m=hm_pt.match(line).groups()\n",
    "    \n",
    "    header.append(h)\n",
    "    msg.append(m)"
   ]
  },
  {
   "cell_type": "code",
   "execution_count": 6,
   "metadata": {},
   "outputs": [
    {
     "output_type": "stream",
     "name": "stdout",
     "text": [
      "nova-api.log.1.2017-05-17_12:02:19 2017-05-16 16:26:12.995 25749 INFO nova.osapi_compute.wsgi.server \n[req-f706fe35-9183-45f5-b64e-bc242331859d 113d3a99c3da401fbd62cc2caa5b96d2 54fadb412c4e40cdbaed9335e4c35a9e - - -] 10.11.10.1 \"GET /v2/54fadb412c4e40cdbaed9335e4c35a9e/servers/detail HTTP/1.1\" status: 200 len: 1892 time: 0.2479329\n"
     ]
    }
   ],
   "source": [
    "print(header[0])\n",
    "print(msg[0])"
   ]
  },
  {
   "cell_type": "code",
   "execution_count": 7,
   "metadata": {},
   "outputs": [],
   "source": [
    "header_tokens=[]\n",
    "for h in header:\n",
    "    tokens=[token for token in re.split(r'([\\s$@<>\\[\\]\\'\"=]|\\((?!\\))|(?<!\\()\\)|[:\\.,](?=\\s)|(?<=\\b[a-zA-Z]+):|:(?=[a-zA-Z]+\\b))',h) if token!='' and token!=None]\n",
    "    header_tokens.append(tokens)"
   ]
  },
  {
   "cell_type": "code",
   "execution_count": 8,
   "metadata": {},
   "outputs": [],
   "source": [
    "msg_tokens=[]\n",
    "for m in msg:\n",
    "    tokens=[token for token in split_pt.split(m) if token!='' and token!=None]\n",
    "    msg_tokens.append(tokens)"
   ]
  },
  {
   "cell_type": "code",
   "execution_count": 9,
   "metadata": {},
   "outputs": [],
   "source": [
    "pd.DataFrame({'header_tokens':header_tokens,'msg_tokens':msg_tokens}).to_csv('tokens.csv')"
   ]
  },
  {
   "cell_type": "code",
   "execution_count": 10,
   "metadata": {},
   "outputs": [],
   "source": [
    "header_anno=[]\n",
    "for tokens in header_tokens:\n",
    "    anno=['O']*len(tokens)\n",
    "    anno[2],anno[4],anno[8],anno[10]='B-DATE','B-TIME','B-LVL','B-CLS'\n",
    "\n",
    "    header_anno.append(anno)"
   ]
  },
  {
   "cell_type": "code",
   "execution_count": 11,
   "metadata": {},
   "outputs": [
    {
     "output_type": "execute_result",
     "data": {
      "text/plain": [
       "[('nova-api.log.1.2017-05-17_12:02:19', 'O'),\n",
       " (' ', 'O'),\n",
       " ('2017-05-16', 'B-DATE'),\n",
       " (' ', 'O'),\n",
       " ('16:26:12.995', 'B-TIME'),\n",
       " (' ', 'O'),\n",
       " ('25749', 'O'),\n",
       " (' ', 'O'),\n",
       " ('INFO', 'B-LVL'),\n",
       " (' ', 'O'),\n",
       " ('nova.osapi_compute.wsgi.server', 'B-CLS'),\n",
       " (' ', 'O')]"
      ]
     },
     "metadata": {},
     "execution_count": 11
    }
   ],
   "source": [
    "list(zip(header_tokens[0],header_anno[0]))"
   ]
  },
  {
   "cell_type": "code",
   "execution_count": 12,
   "metadata": {},
   "outputs": [],
   "source": [
    "msg_anno=[]\n",
    "for tokens in msg_tokens:\n",
    "    anno=['<O>']*len(tokens)\n",
    "    msg_anno.append(anno)"
   ]
  },
  {
   "cell_type": "code",
   "execution_count": 13,
   "metadata": {},
   "outputs": [],
   "source": [
    "re_date=r'\\d{2}\\/\\d{2}\\/\\d{4}'\n",
    "re_time=r'^\\d{2}:\\d{2}$'\n",
    "\n",
    "re_obj=r'[a-zA-Z]+-\\d{1,3}$'\n",
    "re_cls=r'(\\.([A-Z]+[a-z]*)+)|([A-Z]+[a-z]+){2,}$'\n",
    "re_func=r'\\S*\\(\\)$'\n",
    "re_path=r'^\\'?\\/[a-zA-Z]'\n",
    "re_ip=r'(?:[0-9]{1,3}\\.){3}[0-9]{1,3}'\n",
    "\n",
    "re_host=r':\\d{3,5}$'\n",
    "re_url=r'[a-z]+:\\/\\/\\S*'\n"
   ]
  },
  {
   "cell_type": "code",
   "execution_count": 14,
   "metadata": {},
   "outputs": [],
   "source": [
    "def sub_tag(ntokens,ntags, patt_tag_list):\n",
    "\n",
    "    def _sub_tag(ntokens,ntags, patt, target_tag):\n",
    "        for tokens,tags in zip(ntokens,ntags):\n",
    "            for i in range(len(tokens)):\n",
    "                if re.search(patt,tokens[i]):\n",
    "                    tags[i]=target_tag\n",
    "\n",
    "    for patt,tag in patt_tag_list:\n",
    "        _sub_tag(ntokens,ntags,patt,tag)"
   ]
  },
  {
   "cell_type": "code",
   "execution_count": 15,
   "metadata": {},
   "outputs": [],
   "source": [
    "sub_tag(msg_tokens,msg_anno,\n",
    "    [(re_date,'B-DATE'),\n",
    "    (re_time,'B-TIME'),\n",
    "    (re_cls,'B-CLS'),\n",
    "    (re_func,'B-FUNC'),\n",
    "    (re_path,'B-PATH'),\n",
    "    (re_ip,'B-IP'),\n",
    "    (re_host,'B-HOST'),\n",
    "    (re_url,'B-URL')])"
   ]
  },
  {
   "cell_type": "code",
   "execution_count": 16,
   "metadata": {},
   "outputs": [
    {
     "output_type": "execute_result",
     "data": {
      "text/plain": [
       "[('[', '<O>'),\n",
       " ('req-f706fe35-9183-45f5-b64e-bc242331859d', '<O>'),\n",
       " (' ', '<O>'),\n",
       " ('113d3a99c3da401fbd62cc2caa5b96d2', '<O>'),\n",
       " (' ', '<O>'),\n",
       " ('54fadb412c4e40cdbaed9335e4c35a9e', '<O>'),\n",
       " (' ', '<O>'),\n",
       " ('-', '<O>'),\n",
       " (' ', '<O>'),\n",
       " ('-', '<O>'),\n",
       " (' ', '<O>'),\n",
       " ('-', '<O>'),\n",
       " (']', '<O>'),\n",
       " (' ', '<O>'),\n",
       " ('10.11.10.1', 'B-IP'),\n",
       " (' ', '<O>'),\n",
       " ('\"', '<O>'),\n",
       " ('GET', '<O>'),\n",
       " (' ', '<O>'),\n",
       " ('/v2/54fadb412c4e40cdbaed9335e4c35a9e/servers/detail', 'B-PATH'),\n",
       " (' ', '<O>'),\n",
       " ('HTTP/1.1', '<O>'),\n",
       " ('\"', '<O>'),\n",
       " (' ', '<O>'),\n",
       " ('status', '<O>'),\n",
       " (':', '<O>'),\n",
       " (' ', '<O>'),\n",
       " ('200', '<O>'),\n",
       " (' ', '<O>'),\n",
       " ('len', '<O>'),\n",
       " (':', '<O>'),\n",
       " (' ', '<O>'),\n",
       " ('1892', '<O>'),\n",
       " (' ', '<O>'),\n",
       " ('time', '<O>'),\n",
       " (':', '<O>'),\n",
       " (' ', '<O>'),\n",
       " ('0.2479329', '<O>')]"
      ]
     },
     "metadata": {},
     "execution_count": 16
    }
   ],
   "source": [
    "list(zip(msg_tokens[0],msg_anno[0]))"
   ]
  },
  {
   "cell_type": "code",
   "execution_count": 17,
   "metadata": {},
   "outputs": [],
   "source": [
    "with open('./header_check.txt','w') as f:\n",
    "    for tokens,tags in zip(header_tokens,header_anno):\n",
    "        for token,tag in zip(tokens,tags):\n",
    "            f.write(token+' '+tag+'\\n')\n",
    "        f.write('\\n')"
   ]
  },
  {
   "cell_type": "code",
   "execution_count": 18,
   "metadata": {},
   "outputs": [],
   "source": [
    "with open('./msg_check.txt','w') as f:\n",
    "    for tokens,tags in zip(msg_tokens,msg_anno):\n",
    "        for token,tag in zip(tokens,tags):\n",
    "            f.write(token+' '+tag+'\\n')\n",
    "        f.write('\\n')"
   ]
  },
  {
   "cell_type": "code",
   "execution_count": 19,
   "metadata": {},
   "outputs": [],
   "source": [
    "df=pd.DataFrame({\n",
    "    'tokens':[h+m for h,m in zip(header_tokens,msg_tokens)],\n",
    "    'tags':[h+m for h,m in zip(header_anno,msg_anno)],\n",
    "    'raw_log':[h+m for h,m in zip(header,msg)]\n",
    "    })\n",
    "df.to_csv('./openstack_ds.csv')"
   ]
  },
  {
   "cell_type": "code",
   "execution_count": null,
   "metadata": {},
   "outputs": [],
   "source": []
  }
 ]
}