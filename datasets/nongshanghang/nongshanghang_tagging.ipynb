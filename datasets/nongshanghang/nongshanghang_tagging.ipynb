{
    "cells": [
        {
            "cell_type": "code",
            "execution_count": null,
            "source": [
                "import pandas as pd\n",
                "import regex as re"
            ],
            "outputs": [],
            "metadata": {}
        },
        {
            "cell_type": "code",
            "execution_count": 2,
            "source": [
                "df=pd.read_csv('./sz_nongshanghang_20200610.csv')\n",
                "msg=df['Message'].to_list()\n",
                "msg=list(set(msg))"
            ],
            "outputs": [
                {
                    "output_type": "error",
                    "ename": "ParserError",
                    "evalue": "Error tokenizing data. C error: Expected 6 fields in line 152, saw 7\n",
                    "traceback": [
                        "\u001b[0;31m---------------------------------------------------------------------------\u001b[0m",
                        "\u001b[0;31mParserError\u001b[0m                               Traceback (most recent call last)",
                        "\u001b[0;32m<ipython-input-2-9e86cec5c95e>\u001b[0m in \u001b[0;36m<module>\u001b[0;34m\u001b[0m\n\u001b[0;32m----> 1\u001b[0;31m \u001b[0mdf\u001b[0m\u001b[0;34m=\u001b[0m\u001b[0mpd\u001b[0m\u001b[0;34m.\u001b[0m\u001b[0mread_csv\u001b[0m\u001b[0;34m(\u001b[0m\u001b[0;34m'./sz_nongshanghang_20200610.csv'\u001b[0m\u001b[0;34m)\u001b[0m\u001b[0;34m\u001b[0m\u001b[0;34m\u001b[0m\u001b[0m\n\u001b[0m\u001b[1;32m      2\u001b[0m \u001b[0mmsg\u001b[0m\u001b[0;34m=\u001b[0m\u001b[0mdf\u001b[0m\u001b[0;34m[\u001b[0m\u001b[0;34m'Message'\u001b[0m\u001b[0;34m]\u001b[0m\u001b[0;34m.\u001b[0m\u001b[0mto_list\u001b[0m\u001b[0;34m(\u001b[0m\u001b[0;34m)\u001b[0m\u001b[0;34m\u001b[0m\u001b[0;34m\u001b[0m\u001b[0m\n\u001b[1;32m      3\u001b[0m \u001b[0mmsg\u001b[0m\u001b[0;34m=\u001b[0m\u001b[0mlist\u001b[0m\u001b[0;34m(\u001b[0m\u001b[0mset\u001b[0m\u001b[0;34m(\u001b[0m\u001b[0mmsg\u001b[0m\u001b[0;34m)\u001b[0m\u001b[0;34m)\u001b[0m\u001b[0;34m\u001b[0m\u001b[0;34m\u001b[0m\u001b[0m\n",
                        "\u001b[0;32m~/anaconda3/envs/sid/lib/python3.8/site-packages/pandas/io/parsers.py\u001b[0m in \u001b[0;36mread_csv\u001b[0;34m(filepath_or_buffer, sep, delimiter, header, names, index_col, usecols, squeeze, prefix, mangle_dupe_cols, dtype, engine, converters, true_values, false_values, skipinitialspace, skiprows, skipfooter, nrows, na_values, keep_default_na, na_filter, verbose, skip_blank_lines, parse_dates, infer_datetime_format, keep_date_col, date_parser, dayfirst, cache_dates, iterator, chunksize, compression, thousands, decimal, lineterminator, quotechar, quoting, doublequote, escapechar, comment, encoding, dialect, error_bad_lines, warn_bad_lines, delim_whitespace, low_memory, memory_map, float_precision, storage_options)\u001b[0m\n\u001b[1;32m    608\u001b[0m     \u001b[0mkwds\u001b[0m\u001b[0;34m.\u001b[0m\u001b[0mupdate\u001b[0m\u001b[0;34m(\u001b[0m\u001b[0mkwds_defaults\u001b[0m\u001b[0;34m)\u001b[0m\u001b[0;34m\u001b[0m\u001b[0;34m\u001b[0m\u001b[0m\n\u001b[1;32m    609\u001b[0m \u001b[0;34m\u001b[0m\u001b[0m\n\u001b[0;32m--> 610\u001b[0;31m     \u001b[0;32mreturn\u001b[0m \u001b[0m_read\u001b[0m\u001b[0;34m(\u001b[0m\u001b[0mfilepath_or_buffer\u001b[0m\u001b[0;34m,\u001b[0m \u001b[0mkwds\u001b[0m\u001b[0;34m)\u001b[0m\u001b[0;34m\u001b[0m\u001b[0;34m\u001b[0m\u001b[0m\n\u001b[0m\u001b[1;32m    611\u001b[0m \u001b[0;34m\u001b[0m\u001b[0m\n\u001b[1;32m    612\u001b[0m \u001b[0;34m\u001b[0m\u001b[0m\n",
                        "\u001b[0;32m~/anaconda3/envs/sid/lib/python3.8/site-packages/pandas/io/parsers.py\u001b[0m in \u001b[0;36m_read\u001b[0;34m(filepath_or_buffer, kwds)\u001b[0m\n\u001b[1;32m    466\u001b[0m \u001b[0;34m\u001b[0m\u001b[0m\n\u001b[1;32m    467\u001b[0m     \u001b[0;32mwith\u001b[0m \u001b[0mparser\u001b[0m\u001b[0;34m:\u001b[0m\u001b[0;34m\u001b[0m\u001b[0;34m\u001b[0m\u001b[0m\n\u001b[0;32m--> 468\u001b[0;31m         \u001b[0;32mreturn\u001b[0m \u001b[0mparser\u001b[0m\u001b[0;34m.\u001b[0m\u001b[0mread\u001b[0m\u001b[0;34m(\u001b[0m\u001b[0mnrows\u001b[0m\u001b[0;34m)\u001b[0m\u001b[0;34m\u001b[0m\u001b[0;34m\u001b[0m\u001b[0m\n\u001b[0m\u001b[1;32m    469\u001b[0m \u001b[0;34m\u001b[0m\u001b[0m\n\u001b[1;32m    470\u001b[0m \u001b[0;34m\u001b[0m\u001b[0m\n",
                        "\u001b[0;32m~/anaconda3/envs/sid/lib/python3.8/site-packages/pandas/io/parsers.py\u001b[0m in \u001b[0;36mread\u001b[0;34m(self, nrows)\u001b[0m\n\u001b[1;32m   1055\u001b[0m     \u001b[0;32mdef\u001b[0m \u001b[0mread\u001b[0m\u001b[0;34m(\u001b[0m\u001b[0mself\u001b[0m\u001b[0;34m,\u001b[0m \u001b[0mnrows\u001b[0m\u001b[0;34m=\u001b[0m\u001b[0;32mNone\u001b[0m\u001b[0;34m)\u001b[0m\u001b[0;34m:\u001b[0m\u001b[0;34m\u001b[0m\u001b[0;34m\u001b[0m\u001b[0m\n\u001b[1;32m   1056\u001b[0m         \u001b[0mnrows\u001b[0m \u001b[0;34m=\u001b[0m \u001b[0mvalidate_integer\u001b[0m\u001b[0;34m(\u001b[0m\u001b[0;34m\"nrows\"\u001b[0m\u001b[0;34m,\u001b[0m \u001b[0mnrows\u001b[0m\u001b[0;34m)\u001b[0m\u001b[0;34m\u001b[0m\u001b[0;34m\u001b[0m\u001b[0m\n\u001b[0;32m-> 1057\u001b[0;31m         \u001b[0mindex\u001b[0m\u001b[0;34m,\u001b[0m \u001b[0mcolumns\u001b[0m\u001b[0;34m,\u001b[0m \u001b[0mcol_dict\u001b[0m \u001b[0;34m=\u001b[0m \u001b[0mself\u001b[0m\u001b[0;34m.\u001b[0m\u001b[0m_engine\u001b[0m\u001b[0;34m.\u001b[0m\u001b[0mread\u001b[0m\u001b[0;34m(\u001b[0m\u001b[0mnrows\u001b[0m\u001b[0;34m)\u001b[0m\u001b[0;34m\u001b[0m\u001b[0;34m\u001b[0m\u001b[0m\n\u001b[0m\u001b[1;32m   1058\u001b[0m \u001b[0;34m\u001b[0m\u001b[0m\n\u001b[1;32m   1059\u001b[0m         \u001b[0;32mif\u001b[0m \u001b[0mindex\u001b[0m \u001b[0;32mis\u001b[0m \u001b[0;32mNone\u001b[0m\u001b[0;34m:\u001b[0m\u001b[0;34m\u001b[0m\u001b[0;34m\u001b[0m\u001b[0m\n",
                        "\u001b[0;32m~/anaconda3/envs/sid/lib/python3.8/site-packages/pandas/io/parsers.py\u001b[0m in \u001b[0;36mread\u001b[0;34m(self, nrows)\u001b[0m\n\u001b[1;32m   2034\u001b[0m     \u001b[0;32mdef\u001b[0m \u001b[0mread\u001b[0m\u001b[0;34m(\u001b[0m\u001b[0mself\u001b[0m\u001b[0;34m,\u001b[0m \u001b[0mnrows\u001b[0m\u001b[0;34m=\u001b[0m\u001b[0;32mNone\u001b[0m\u001b[0;34m)\u001b[0m\u001b[0;34m:\u001b[0m\u001b[0;34m\u001b[0m\u001b[0;34m\u001b[0m\u001b[0m\n\u001b[1;32m   2035\u001b[0m         \u001b[0;32mtry\u001b[0m\u001b[0;34m:\u001b[0m\u001b[0;34m\u001b[0m\u001b[0;34m\u001b[0m\u001b[0m\n\u001b[0;32m-> 2036\u001b[0;31m             \u001b[0mdata\u001b[0m \u001b[0;34m=\u001b[0m \u001b[0mself\u001b[0m\u001b[0;34m.\u001b[0m\u001b[0m_reader\u001b[0m\u001b[0;34m.\u001b[0m\u001b[0mread\u001b[0m\u001b[0;34m(\u001b[0m\u001b[0mnrows\u001b[0m\u001b[0;34m)\u001b[0m\u001b[0;34m\u001b[0m\u001b[0;34m\u001b[0m\u001b[0m\n\u001b[0m\u001b[1;32m   2037\u001b[0m         \u001b[0;32mexcept\u001b[0m \u001b[0mStopIteration\u001b[0m\u001b[0;34m:\u001b[0m\u001b[0;34m\u001b[0m\u001b[0;34m\u001b[0m\u001b[0m\n\u001b[1;32m   2038\u001b[0m             \u001b[0;32mif\u001b[0m \u001b[0mself\u001b[0m\u001b[0;34m.\u001b[0m\u001b[0m_first_chunk\u001b[0m\u001b[0;34m:\u001b[0m\u001b[0;34m\u001b[0m\u001b[0;34m\u001b[0m\u001b[0m\n",
                        "\u001b[0;32mpandas/_libs/parsers.pyx\u001b[0m in \u001b[0;36mpandas._libs.parsers.TextReader.read\u001b[0;34m()\u001b[0m\n",
                        "\u001b[0;32mpandas/_libs/parsers.pyx\u001b[0m in \u001b[0;36mpandas._libs.parsers.TextReader._read_low_memory\u001b[0;34m()\u001b[0m\n",
                        "\u001b[0;32mpandas/_libs/parsers.pyx\u001b[0m in \u001b[0;36mpandas._libs.parsers.TextReader._read_rows\u001b[0;34m()\u001b[0m\n",
                        "\u001b[0;32mpandas/_libs/parsers.pyx\u001b[0m in \u001b[0;36mpandas._libs.parsers.TextReader._tokenize_rows\u001b[0;34m()\u001b[0m\n",
                        "\u001b[0;32mpandas/_libs/parsers.pyx\u001b[0m in \u001b[0;36mpandas._libs.parsers.raise_parser_error\u001b[0;34m()\u001b[0m\n",
                        "\u001b[0;31mParserError\u001b[0m: Error tokenizing data. C error: Expected 6 fields in line 152, saw 7\n"
                    ]
                }
            ],
            "metadata": {}
        },
        {
            "cell_type": "code",
            "execution_count": null,
            "source": [
                "split_pt=re.compile(r'([\\s\\(\\)\\[\\]\\'\\\"=,;。，（）【】]|[\\u4e00-\\u9fa5])')"
            ],
            "outputs": [],
            "metadata": {}
        },
        {
            "cell_type": "code",
            "execution_count": null,
            "source": [
                "msg_tokens=[]\n",
                "for m in msg:\n",
                "    tokens=[token for token in split_pt.split(m) if token!='' and token!=None]\n",
                "    msg_tokens.append(tokens)\n",
                "\n",
                "for tokens in msg_tokens:\n",
                "    for i,token in enumerate(tokens):\n",
                "        tokens[i:i+1]=[t for t in re.split(r'([:：]$|(?<=(?:IP)|^)[:：])',token) if t!='']\n",
                "\n",
                "pd.DataFrame({'msg_tokens':msg_tokens}).to_csv('tokens.csv')"
            ],
            "outputs": [],
            "metadata": {}
        },
        {
            "cell_type": "code",
            "execution_count": null,
            "source": [
                "re_date=r'\\d{4}-\\d{2}-\\d{2}'\n",
                "re_time=r'^\\d{2}:\\d{2}:\\d{2}$'\n",
                "\n",
                "re_cls=r'(\\.([A-Z]+[a-z]*)+)|([A-Z]+[a-z]+){2,}$'\n",
                "re_path=r'^\\'?\\/[a-zA-Z0-9]'\n",
                "re_ip=r'^(?:[0-9]{1,3}\\.){3}[0-9]{1,3}'\n",
                "\n",
                "re_url=r'[a-z]+:\\/\\/\\S*'"
            ],
            "outputs": [],
            "metadata": {}
        },
        {
            "cell_type": "code",
            "execution_count": null,
            "source": [
                "def sub_tag(ntokens,ntags, patt_tag_list):\n",
                "\n",
                "    def _sub_tag(ntokens,ntags, patt, target_tag):\n",
                "        for tokens,tags in zip(ntokens,ntags):\n",
                "            for i in range(len(tokens)):\n",
                "                if re.search(patt,tokens[i]):\n",
                "                    tags[i]=target_tag\n",
                "\n",
                "    for patt,tag in patt_tag_list:\n",
                "        _sub_tag(ntokens,ntags,patt,tag)"
            ],
            "outputs": [],
            "metadata": {}
        },
        {
            "cell_type": "code",
            "execution_count": null,
            "source": [
                "msg_anno=[]\n",
                "for tokens in msg_tokens:\n",
                "    anno=['O']*len(tokens)\n",
                "    msg_anno.append(anno)\n",
                "\n",
                "sub_tag(msg_tokens,msg_anno,\n",
                "    [(re_date,'B-DATE'),\n",
                "    (re_time,'B-TIME'),\n",
                "    (re_cls,'B-CLS'),\n",
                "    (re_path,'B-PATH'),\n",
                "    (re_ip,'B-IP'),\n",
                "    (re_url,'B-URL')])"
            ],
            "outputs": [],
            "metadata": {}
        },
        {
            "cell_type": "code",
            "execution_count": null,
            "source": [
                "with open('./msg_check.txt','w') as f:\n",
                "    for tokens,tags in zip(msg_tokens,msg_anno):\n",
                "        for token,tag in zip(tokens,tags):\n",
                "            f.write(token+' '+tag+'\\n')\n",
                "        f.write('\\n')"
            ],
            "outputs": [],
            "metadata": {}
        },
        {
            "cell_type": "code",
            "execution_count": null,
            "source": [
                "df = pd.DataFrame({\n",
                "    'tokens': msg_tokens,\n",
                "    'tags': msg_anno,\n",
                "    'raw_log': msg\n",
                "})\n",
                "df.to_csv('./nongshanghang_ds.csv',)\n"
            ],
            "outputs": [],
            "metadata": {}
        },
        {
            "cell_type": "code",
            "execution_count": null,
            "source": [
                "df.loc[415:425]"
            ],
            "outputs": [
                {
                    "output_type": "execute_result",
                    "data": {
                        "text/plain": [
                            "                                                tokens  \\\n",
                            "415  [蚂, 蚁, 金, 融, 科, 技, 监, 控, ,, 您, 的, ACS, （, dr-i...   \n",
                            "416  [[, ], 上, 传, 龙, 岗, 国, 库, 文, 件, [, 000-305-2020...   \n",
                            "417  [蚂, 蚁, 金, 融, 科, 技, 核, 心, 态, 监, 控, antstackants...   \n",
                            "418  [行, 内, 微, 信, 通, 知, 发, 送, 出, 现, 异, 常, ，, 10, 分,...   \n",
                            "419  [200061, 日, 启, 批, 量, 入, 账, :, 200061, 联, 机, 账,...   \n",
                            "420  [蚂, 蚁, 金, 融, 科, 技, 核, 心, 态, 监, 控, antstackants...   \n",
                            "421  [新, 手, 机, 银, 行, 告, 警, ,, 时, 间, 段, 为, [, 2020-0...   \n",
                            "422  [蚂, 蚁, 金, 融, 科, 技, 监, 控, ,, 您, 的, ACS, （, prd-...   \n",
                            "423  [蚂, 蚁, 金, 融, 科, 技, 监, 控, ,, 您, 的, ACS, （, dr-i...   \n",
                            "424  [[, NSTER01, ], 2019-12-03,  , 16:06:50, 时, ，,...   \n",
                            "425  [[, 000173, ], WYTOWZH, 通, 用, 文, 件, 传, 输, 异, 常...   \n",
                            "\n",
                            "                                                  tags  \\\n",
                            "415  [O, O, O, O, O, O, O, O, O, O, O, O, O, O, O, ...   \n",
                            "416      [O, O, O, O, O, O, O, O, O, O, O, O, O, O, O]   \n",
                            "417  [O, O, O, O, O, O, O, O, O, O, O, O, O, O, O, ...   \n",
                            "418  [O, O, O, O, O, O, O, O, O, O, O, O, O, O, O, ...   \n",
                            "419  [O, O, O, O, O, O, O, O, O, O, O, O, O, O, O, ...   \n",
                            "420  [O, O, O, O, O, O, O, O, O, O, O, O, O, O, O, ...   \n",
                            "421  [O, O, O, O, O, O, O, O, O, O, O, O, O, B-DATE...   \n",
                            "422  [O, O, O, O, O, O, O, O, O, O, O, O, O, O, O, ...   \n",
                            "423  [O, O, O, O, O, O, O, O, O, O, O, O, O, O, O, ...   \n",
                            "424  [O, O, O, B-DATE, O, B-TIME, O, O, O, O, O, O,...   \n",
                            "425  [O, O, O, O, O, O, O, O, O, O, O, O, O, B-PATH...   \n",
                            "\n",
                            "                                               raw_log  \n",
                            "415  蚂蚁金融科技监控,您的ACS（dr-ibs-edeposit-g-1-1）在租户(金融云租户...  \n",
                            "416   []上传龙岗国库文件[000-305-2020052809184682210623.xml]失败  \n",
                            "417  蚂蚁金融科技核心态监控antstackantstack,您的ACS（/10.168.80.8...  \n",
                            "418  行内微信通知发送出现异常，10分钟内发送异常数目超过1500,异常数目为2231，请及时检查...  \n",
                            "419  200061日启批量入账:200061联机账务处理结果处理失败【0】笔\\r\\n处理成功【12...  \n",
                            "420  蚂蚁金融科技核心态监控antstackantstack,您的ACS（/192.168.80....  \n",
                            "421  新手机银行告警,时间段为[2020-06-01 22:55:55]至[2020-06-01 ...  \n",
                            "422  蚂蚁金融科技监控,您的ACS（prd-ibs-socialinsurance-1-2）在租户...  \n",
                            "423  蚂蚁金融科技监控,您的ACS（dr-ibs-eesbapi-g-1-1）在租户(金融云租户)...  \n",
                            "424  [NSTER01]2019-12-03 16:06:50时，dx5服务器(192.0.27....  \n",
                            "425  [000173]WYTOWZH通用文件传输异常:/sharedir/dxdir_paperl...  "
                        ],
                        "text/html": [
                            "<div>\n",
                            "<style scoped>\n",
                            "    .dataframe tbody tr th:only-of-type {\n",
                            "        vertical-align: middle;\n",
                            "    }\n",
                            "\n",
                            "    .dataframe tbody tr th {\n",
                            "        vertical-align: top;\n",
                            "    }\n",
                            "\n",
                            "    .dataframe thead th {\n",
                            "        text-align: right;\n",
                            "    }\n",
                            "</style>\n",
                            "<table border=\"1\" class=\"dataframe\">\n",
                            "  <thead>\n",
                            "    <tr style=\"text-align: right;\">\n",
                            "      <th></th>\n",
                            "      <th>tokens</th>\n",
                            "      <th>tags</th>\n",
                            "      <th>raw_log</th>\n",
                            "    </tr>\n",
                            "  </thead>\n",
                            "  <tbody>\n",
                            "    <tr>\n",
                            "      <th>415</th>\n",
                            "      <td>[蚂, 蚁, 金, 融, 科, 技, 监, 控, ,, 您, 的, ACS, （, dr-i...</td>\n",
                            "      <td>[O, O, O, O, O, O, O, O, O, O, O, O, O, O, O, ...</td>\n",
                            "      <td>蚂蚁金融科技监控,您的ACS（dr-ibs-edeposit-g-1-1）在租户(金融云租户...</td>\n",
                            "    </tr>\n",
                            "    <tr>\n",
                            "      <th>416</th>\n",
                            "      <td>[[, ], 上, 传, 龙, 岗, 国, 库, 文, 件, [, 000-305-2020...</td>\n",
                            "      <td>[O, O, O, O, O, O, O, O, O, O, O, O, O, O, O]</td>\n",
                            "      <td>[]上传龙岗国库文件[000-305-2020052809184682210623.xml]失败</td>\n",
                            "    </tr>\n",
                            "    <tr>\n",
                            "      <th>417</th>\n",
                            "      <td>[蚂, 蚁, 金, 融, 科, 技, 核, 心, 态, 监, 控, antstackants...</td>\n",
                            "      <td>[O, O, O, O, O, O, O, O, O, O, O, O, O, O, O, ...</td>\n",
                            "      <td>蚂蚁金融科技核心态监控antstackantstack,您的ACS（/10.168.80.8...</td>\n",
                            "    </tr>\n",
                            "    <tr>\n",
                            "      <th>418</th>\n",
                            "      <td>[行, 内, 微, 信, 通, 知, 发, 送, 出, 现, 异, 常, ，, 10, 分,...</td>\n",
                            "      <td>[O, O, O, O, O, O, O, O, O, O, O, O, O, O, O, ...</td>\n",
                            "      <td>行内微信通知发送出现异常，10分钟内发送异常数目超过1500,异常数目为2231，请及时检查...</td>\n",
                            "    </tr>\n",
                            "    <tr>\n",
                            "      <th>419</th>\n",
                            "      <td>[200061, 日, 启, 批, 量, 入, 账, :, 200061, 联, 机, 账,...</td>\n",
                            "      <td>[O, O, O, O, O, O, O, O, O, O, O, O, O, O, O, ...</td>\n",
                            "      <td>200061日启批量入账:200061联机账务处理结果处理失败【0】笔\\r\\n处理成功【12...</td>\n",
                            "    </tr>\n",
                            "    <tr>\n",
                            "      <th>420</th>\n",
                            "      <td>[蚂, 蚁, 金, 融, 科, 技, 核, 心, 态, 监, 控, antstackants...</td>\n",
                            "      <td>[O, O, O, O, O, O, O, O, O, O, O, O, O, O, O, ...</td>\n",
                            "      <td>蚂蚁金融科技核心态监控antstackantstack,您的ACS（/192.168.80....</td>\n",
                            "    </tr>\n",
                            "    <tr>\n",
                            "      <th>421</th>\n",
                            "      <td>[新, 手, 机, 银, 行, 告, 警, ,, 时, 间, 段, 为, [, 2020-0...</td>\n",
                            "      <td>[O, O, O, O, O, O, O, O, O, O, O, O, O, B-DATE...</td>\n",
                            "      <td>新手机银行告警,时间段为[2020-06-01 22:55:55]至[2020-06-01 ...</td>\n",
                            "    </tr>\n",
                            "    <tr>\n",
                            "      <th>422</th>\n",
                            "      <td>[蚂, 蚁, 金, 融, 科, 技, 监, 控, ,, 您, 的, ACS, （, prd-...</td>\n",
                            "      <td>[O, O, O, O, O, O, O, O, O, O, O, O, O, O, O, ...</td>\n",
                            "      <td>蚂蚁金融科技监控,您的ACS（prd-ibs-socialinsurance-1-2）在租户...</td>\n",
                            "    </tr>\n",
                            "    <tr>\n",
                            "      <th>423</th>\n",
                            "      <td>[蚂, 蚁, 金, 融, 科, 技, 监, 控, ,, 您, 的, ACS, （, dr-i...</td>\n",
                            "      <td>[O, O, O, O, O, O, O, O, O, O, O, O, O, O, O, ...</td>\n",
                            "      <td>蚂蚁金融科技监控,您的ACS（dr-ibs-eesbapi-g-1-1）在租户(金融云租户)...</td>\n",
                            "    </tr>\n",
                            "    <tr>\n",
                            "      <th>424</th>\n",
                            "      <td>[[, NSTER01, ], 2019-12-03,  , 16:06:50, 时, ，,...</td>\n",
                            "      <td>[O, O, O, B-DATE, O, B-TIME, O, O, O, O, O, O,...</td>\n",
                            "      <td>[NSTER01]2019-12-03 16:06:50时，dx5服务器(192.0.27....</td>\n",
                            "    </tr>\n",
                            "    <tr>\n",
                            "      <th>425</th>\n",
                            "      <td>[[, 000173, ], WYTOWZH, 通, 用, 文, 件, 传, 输, 异, 常...</td>\n",
                            "      <td>[O, O, O, O, O, O, O, O, O, O, O, O, O, B-PATH...</td>\n",
                            "      <td>[000173]WYTOWZH通用文件传输异常:/sharedir/dxdir_paperl...</td>\n",
                            "    </tr>\n",
                            "  </tbody>\n",
                            "</table>\n",
                            "</div>"
                        ]
                    },
                    "metadata": {},
                    "execution_count": 15
                }
            ],
            "metadata": {}
        },
        {
            "cell_type": "code",
            "execution_count": null,
            "source": [],
            "outputs": [],
            "metadata": {}
        }
    ],
    "metadata": {
        "orig_nbformat": 4,
        "language_info": {
            "name": "python",
            "version": "3.8.10",
            "mimetype": "text/x-python",
            "codemirror_mode": {
                "name": "ipython",
                "version": 3
            },
            "pygments_lexer": "ipython3",
            "nbconvert_exporter": "python",
            "file_extension": ".py"
        },
        "kernelspec": {
            "name": "python3",
            "display_name": "Python 3.8.10 64-bit ('sid': conda)"
        },
        "interpreter": {
            "hash": "837e0a21b5e9228099062a9dae5fb2aa35e7ac1e3ac632d911fe66cd8bbd802f"
        }
    },
    "nbformat": 4,
    "nbformat_minor": 2
}