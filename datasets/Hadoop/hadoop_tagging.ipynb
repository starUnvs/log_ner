{
 "metadata": {
  "language_info": {
   "codemirror_mode": {
    "name": "ipython",
    "version": 3
   },
   "file_extension": ".py",
   "mimetype": "text/x-python",
   "name": "python",
   "nbconvert_exporter": "python",
   "pygments_lexer": "ipython3",
   "version": "3.7.10"
  },
  "orig_nbformat": 2,
  "kernelspec": {
   "name": "python3",
   "display_name": "Python 3.7.10 64-bit ('torch': conda)"
  },
  "interpreter": {
   "hash": "92b177ae525d99aefec57d1e05087defe35c515de2a950e481ffeaeb3a04b84b"
  }
 },
 "nbformat": 4,
 "nbformat_minor": 2,
 "cells": [
  {
   "cell_type": "code",
   "execution_count": 116,
   "metadata": {},
   "outputs": [],
   "source": [
    "import regex as re\n",
    "import pandas as pd"
   ]
  },
  {
   "cell_type": "code",
   "execution_count": 117,
   "metadata": {},
   "outputs": [],
   "source": [
    "f=open('./hadoop_10k.log')\n",
    "lines=f.readlines()"
   ]
  },
  {
   "cell_type": "code",
   "execution_count": 118,
   "metadata": {},
   "outputs": [],
   "source": [
    "split_pt=re.compile(r'([\\s$@<>\\[\\]\\'\"=]|\\((?!\\))|(?<!\\()\\)|[:,\\.](?=\\s)|(?<=\\b[a-zA-Z]+):(?=\\d+|[a-zA-Z]+\\b))')\n",
    "hm_pt=re.compile(r'(.*?\\w(?=.\\[))(.*)')"
   ]
  },
  {
   "cell_type": "code",
   "execution_count": 119,
   "metadata": {},
   "outputs": [],
   "source": [
    "header=[]\n",
    "msg=[]\n",
    "for line in lines:\n",
    "    h,m=hm_pt.match(line).groups()\n",
    "    \n",
    "    header.append(h)\n",
    "    msg.append(m)"
   ]
  },
  {
   "cell_type": "code",
   "execution_count": 120,
   "metadata": {},
   "outputs": [
    {
     "output_type": "stream",
     "name": "stdout",
     "text": [
      "2015-10-19 14:24:56,892 INFO\n [IPC Server handler 13 on 39673] org.apache.hadoop.mapred.TaskAttemptListenerImpl: Progress of TaskAttempt attempt_1445182159119_0004_m_000000_0 is : 0.54488474\n"
     ]
    }
   ],
   "source": [
    "print(header[0])\n",
    "print(msg[0])"
   ]
  },
  {
   "cell_type": "code",
   "execution_count": 121,
   "metadata": {},
   "outputs": [],
   "source": [
    "header_tokens=[]\n",
    "for h in header:\n",
    "    tokens=[token for token in split_pt.split(h) if token!='' and token!=None]\n",
    "    header_tokens.append(tokens)"
   ]
  },
  {
   "cell_type": "code",
   "execution_count": 122,
   "metadata": {},
   "outputs": [],
   "source": [
    "msg_tokens=[]\n",
    "for m in msg:\n",
    "    tokens=[token for token in split_pt.split(m) if token!='' and token!=None]\n",
    "    msg_tokens.append(tokens)"
   ]
  },
  {
   "cell_type": "code",
   "execution_count": 123,
   "metadata": {},
   "outputs": [],
   "source": [
    "pd.DataFrame({'header_tokens':header_tokens,'msg_tokens':msg_tokens}).to_csv('tokens.csv')"
   ]
  },
  {
   "cell_type": "code",
   "execution_count": 124,
   "metadata": {},
   "outputs": [],
   "source": [
    "header_anno=[]\n",
    "for tokens in header_tokens:\n",
    "    anno=['O']*len(tokens)\n",
    "    anno[0],anno[2],anno[4]='B-DATE','B-TIME','B-LVL'\n",
    "\n",
    "    header_anno.append(anno)"
   ]
  },
  {
   "cell_type": "code",
   "execution_count": 125,
   "metadata": {},
   "outputs": [
    {
     "output_type": "execute_result",
     "data": {
      "text/plain": [
       "[('2015-10-19', 'B-DATE'),\n",
       " (' ', 'O'),\n",
       " ('14:24:56,892', 'B-TIME'),\n",
       " (' ', 'O'),\n",
       " ('INFO', 'B-LVL')]"
      ]
     },
     "metadata": {},
     "execution_count": 125
    }
   ],
   "source": [
    "list(zip(header_tokens[0],header_anno[0]))"
   ]
  },
  {
   "cell_type": "code",
   "execution_count": 126,
   "metadata": {},
   "outputs": [],
   "source": [
    "msg_anno=[]\n",
    "for tokens in msg_tokens:\n",
    "    anno=['<O>']*len(tokens)\n",
    "    msg_anno.append(anno)"
   ]
  },
  {
   "cell_type": "code",
   "execution_count": 127,
   "metadata": {},
   "outputs": [],
   "source": [
    "re_date=r'\\d{2}\\/\\d{2}\\/\\d{4}'\n",
    "re_time=r'^\\d{2}:\\d{2}$'\n",
    "\n",
    "re_obj=r'[a-zA-Z]+-\\d{1,3}$'\n",
    "re_cls=r'(\\.([A-Z]+[a-z]*)+)|([A-Z]+[a-z]+){2,}'\n",
    "re_func=r'\\S*\\(\\)$'\n",
    "re_path=r'^\\'?\\/'\n",
    "re_ip=r'^(?:[0-9]{1,3}\\.){3}[0-9]{1,3}$'\n",
    "\n",
    "re_host=r':\\d{3,5}$'\n",
    "re_url=r'[a-z]+:\\/\\/\\S*'\n"
   ]
  },
  {
   "cell_type": "code",
   "execution_count": 128,
   "metadata": {},
   "outputs": [],
   "source": [
    "def sub_tag(ntokens,ntags, patt_tag_list):\n",
    "\n",
    "    def _sub_tag(ntokens,ntags, patt, target_tag):\n",
    "        for tokens,tags in zip(ntokens,ntags):\n",
    "            for i in range(len(tokens)):\n",
    "                if re.search(patt,tokens[i]):\n",
    "                    tags[i]=target_tag\n",
    "\n",
    "    for patt,tag in patt_tag_list:\n",
    "        _sub_tag(ntokens,ntags,patt,tag)"
   ]
  },
  {
   "cell_type": "code",
   "execution_count": 129,
   "metadata": {},
   "outputs": [],
   "source": [
    "sub_tag(msg_tokens,msg_anno,\n",
    "    [(re_cls,'B-CLS'),\n",
    "    (re_func,'B-FUNC'),\n",
    "    (re_path,'B-PATH'),\n",
    "    (re_ip,'B-IP'),\n",
    "    (re_host,'B-HOST'),\n",
    "    (re_url,'B-URL')])"
   ]
  },
  {
   "cell_type": "code",
   "execution_count": 130,
   "metadata": {},
   "outputs": [
    {
     "output_type": "execute_result",
     "data": {
      "text/plain": [
       "[(' ', '<O>'),\n",
       " ('[', '<O>'),\n",
       " ('IPC', '<O>'),\n",
       " (' ', '<O>'),\n",
       " ('Server', '<O>'),\n",
       " (' ', '<O>'),\n",
       " ('handler', '<O>'),\n",
       " (' ', '<O>'),\n",
       " ('13', '<O>'),\n",
       " (' ', '<O>'),\n",
       " ('on', '<O>'),\n",
       " (' ', '<O>'),\n",
       " ('39673', '<O>'),\n",
       " (']', '<O>'),\n",
       " (' ', '<O>'),\n",
       " ('org.apache.hadoop.mapred.TaskAttemptListenerImpl', 'B-CLS'),\n",
       " (':', '<O>'),\n",
       " (' ', '<O>'),\n",
       " ('Progress', '<O>'),\n",
       " (' ', '<O>'),\n",
       " ('of', '<O>'),\n",
       " (' ', '<O>'),\n",
       " ('TaskAttempt', 'B-CLS'),\n",
       " (' ', '<O>'),\n",
       " ('attempt_1445182159119_0004_m_000000_0', '<O>'),\n",
       " (' ', '<O>'),\n",
       " ('is', '<O>'),\n",
       " (' ', '<O>'),\n",
       " (':', '<O>'),\n",
       " (' ', '<O>'),\n",
       " ('0.54488474', '<O>')]"
      ]
     },
     "metadata": {},
     "execution_count": 130
    }
   ],
   "source": [
    "list(zip(msg_tokens[0],msg_anno[0]))"
   ]
  },
  {
   "cell_type": "code",
   "execution_count": 131,
   "metadata": {},
   "outputs": [],
   "source": [
    "with open('./header_check.txt','w') as f:\n",
    "    for tokens,tags in zip(header_tokens,header_anno):\n",
    "        for token,tag in zip(tokens,tags):\n",
    "            f.write(token+' '+tag+'\\n')\n",
    "        f.write('\\n')"
   ]
  },
  {
   "cell_type": "code",
   "execution_count": 132,
   "metadata": {},
   "outputs": [],
   "source": [
    "with open('./msg_check.txt','w') as f:\n",
    "    for tokens,tags in zip(msg_tokens,msg_anno):\n",
    "        for token,tag in zip(tokens,tags):\n",
    "            f.write(token+' '+tag+'\\n')\n",
    "        f.write('\\n')"
   ]
  },
  {
   "cell_type": "code",
   "execution_count": 133,
   "metadata": {},
   "outputs": [],
   "source": [
    "df=pd.DataFrame({\n",
    "    'tokens':[h+m for h,m in zip(header_tokens,msg_tokens)],\n",
    "    'tags':[h+m for h,m in zip(header_anno,msg_anno)],\n",
    "    'raw_log':[h+m for h,m in zip(header,msg)]\n",
    "    })\n",
    "df.to_csv('./hadoop_ds.csv')"
   ]
  },
  {
   "cell_type": "code",
   "execution_count": null,
   "metadata": {},
   "outputs": [],
   "source": []
  }
 ]
}