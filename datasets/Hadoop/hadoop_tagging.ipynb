{
 "metadata": {
  "language_info": {
   "codemirror_mode": {
    "name": "ipython",
    "version": 3
   },
   "file_extension": ".py",
   "mimetype": "text/x-python",
   "name": "python",
   "nbconvert_exporter": "python",
   "pygments_lexer": "ipython3",
   "version": "3.7.10"
  },
  "orig_nbformat": 2,
  "kernelspec": {
   "name": "python3710jvsc74a57bd092b177ae525d99aefec57d1e05087defe35c515de2a950e481ffeaeb3a04b84b",
   "display_name": "Python 3.7.10 64-bit ('torch': conda)"
  }
 },
 "nbformat": 4,
 "nbformat_minor": 2,
 "cells": [
  {
   "cell_type": "code",
   "execution_count": 2,
   "metadata": {},
   "outputs": [],
   "source": [
    "import re\n",
    "import pandas as pd"
   ]
  },
  {
   "cell_type": "code",
   "execution_count": 37,
   "metadata": {},
   "outputs": [],
   "source": [
    "text='2015-10-18 18:08:28,662 ERROR [RMCommunicator Allocator] org.apache.hadoop.mapreduce.v2.app.rm.RMContainerAllocator: ERROR IN CONTACTING RM.'"
   ]
  },
  {
   "cell_type": "code",
   "execution_count": 38,
   "metadata": {},
   "outputs": [],
   "source": [
    "h,m=re.match(r'(.*?\\[.*?\\]\\s[\\w\\.]+:)(.*)',text).groups()"
   ]
  },
  {
   "cell_type": "code",
   "execution_count": 39,
   "metadata": {},
   "outputs": [
    {
     "output_type": "execute_result",
     "data": {
      "text/plain": [
       "['2015-10-18',\n",
       " '18:08:28,662',\n",
       " 'ERROR',\n",
       " '[',\n",
       " 'RMCommunicator',\n",
       " 'Allocator',\n",
       " ']',\n",
       " 'org.apache.hadoop.mapreduce.v2.app.rm.RMContainerAllocator',\n",
       " ':']"
      ]
     },
     "metadata": {},
     "execution_count": 39
    }
   ],
   "source": [
    "[token for token in re.split(r'(\\[|\\])|\\s|((?<!\\d\\d)\\:)',h) if token!='' and token!=None]"
   ]
  },
  {
   "cell_type": "code",
   "execution_count": 14,
   "metadata": {},
   "outputs": [
    {
     "output_type": "execute_result",
     "data": {
      "text/plain": [
       "['ERROR', 'IN', 'CONTACTING', 'RM.']"
      ]
     },
     "metadata": {},
     "execution_count": 14
    }
   ],
   "source": [
    "[token for token in re.split(r'(\\[|\\])|\\s|((?<!\\d\\d)\\:)',m) if token!='' and token!=None]"
   ]
  },
  {
   "cell_type": "code",
   "execution_count": 15,
   "metadata": {},
   "outputs": [],
   "source": [
    "f=open('./hadoop_10k.log')\n",
    "lines=f.readlines()"
   ]
  },
  {
   "cell_type": "code",
   "execution_count": 16,
   "metadata": {},
   "outputs": [],
   "source": [
    "header=[]\n",
    "msg=[]\n",
    "for line in lines:\n",
    "    h,m=re.match(r'(.*?\\[.*?\\]\\s[\\w\\.]+:)(.*)',line).groups()\n",
    "    header.append(h.strip())\n",
    "    msg.append(m.strip())"
   ]
  },
  {
   "cell_type": "code",
   "execution_count": 17,
   "metadata": {},
   "outputs": [],
   "source": [
    "header_tokens=[]\n",
    "for h in header:\n",
    "    tokens=[token for token in re.split(r'(\\[|\\])|\\s|((?<!\\d\\d)\\:)',h) if token!='' and token!=None]\n",
    "    header_tokens.append(tokens)"
   ]
  },
  {
   "cell_type": "code",
   "execution_count": 57,
   "metadata": {},
   "outputs": [],
   "source": [
    "msg_tokens=[]\n",
    "for m in msg:\n",
    "    tokens=[token for token in re.split(r'\\[|\\]|\\s|((?<!\\d\\d)\\:(?!\\/\\/))',m) if token!='' and token!=None]\n",
    "    msg_tokens.append(tokens)"
   ]
  },
  {
   "cell_type": "code",
   "execution_count": 58,
   "metadata": {},
   "outputs": [
    {
     "output_type": "execute_result",
     "data": {
      "text/plain": [
       "['Progress',\n",
       " 'of',\n",
       " 'TaskAttempt',\n",
       " 'attempt_1445182159119_0004_m_000000_0',\n",
       " 'is',\n",
       " ':',\n",
       " '0.54488474']"
      ]
     },
     "metadata": {},
     "execution_count": 58
    }
   ],
   "source": [
    "msg_tokens[0]"
   ]
  },
  {
   "cell_type": "code",
   "execution_count": 59,
   "metadata": {},
   "outputs": [],
   "source": [
    "df=pd.DataFrame({'header':header,'msg':msg,'header_tokens':header_tokens,'msg_tokens':msg_tokens})"
   ]
  },
  {
   "cell_type": "code",
   "execution_count": 60,
   "metadata": {},
   "outputs": [],
   "source": [
    "df.to_csv('./hadoop_parsed.csv')"
   ]
  },
  {
   "cell_type": "code",
   "execution_count": 61,
   "metadata": {},
   "outputs": [],
   "source": [
    "header_anno=[]\n",
    "for tokens in header_tokens:\n",
    "    anno=[[token,'<O>'] for token in tokens]\n",
    "    anno[0][1],anno[1][1],anno[2][1],anno[-2][1]='<DATE>','<TIME>','<LVL>','<CLS>'\n",
    "\n",
    "\n",
    "    header_anno.append(anno)"
   ]
  },
  {
   "cell_type": "code",
   "execution_count": 62,
   "metadata": {},
   "outputs": [],
   "source": [
    "def sub_tag(series, patt_tag_list):\n",
    "    def _sub_tag(series, patt, tag):\n",
    "        for line in series:\n",
    "            for pair in line:\n",
    "                if re.search(patt,pair[0]):\n",
    "                    pair[1]=tag\n",
    "    for patt,tag in patt_tag_list:\n",
    "        _sub_tag(series,patt,tag)"
   ]
  },
  {
   "cell_type": "code",
   "execution_count": 78,
   "metadata": {},
   "outputs": [],
   "source": [
    "msg_anno=[]\n",
    "for tokens in msg_tokens:\n",
    "    anno=[[token,'<O>'] for token in tokens]\n",
    "\n",
    "    msg_anno.append(anno)"
   ]
  },
  {
   "cell_type": "code",
   "execution_count": 79,
   "metadata": {},
   "outputs": [],
   "source": [
    "re_date=r'\\d{2}\\/\\d{2}\\/\\d{4}'\n",
    "re_time=r'^\\d{2}:\\d{2}$'\n",
    "\n",
    "re_obj=r'[a-zA-Z]+-\\d{1,3}$'\n",
    "re_cls=r'(\\.([A-Z]+[a-z]*)+)|([A-Z]+[a-z]+){2,}'\n",
    "re_func=r'\\S*\\(\\)$'\n",
    "re_path=r'^\\'?\\/'\n",
    "\n",
    "re_host=r':\\d{3,5}$'\n",
    "re_url=r'[a-z]+:\\/\\/\\S*'\n"
   ]
  },
  {
   "cell_type": "code",
   "execution_count": 80,
   "metadata": {},
   "outputs": [],
   "source": [
    "sub_tag(msg_anno,\n",
    "    [(re_cls,'<CLS>'),\n",
    "    (re_func,'<FUNC>'),\n",
    "    (re_path,'<PATH>'),\n",
    "    (re_host,'<HOST>'),\n",
    "    (re_url,'<URL>')])"
   ]
  },
  {
   "cell_type": "code",
   "execution_count": 81,
   "metadata": {},
   "outputs": [],
   "source": [
    "df=pd.DataFrame({\n",
    "    'msg_anno':msg_anno,\n",
    "    'header_anno':header_anno,\n",
    "    'header':header,\n",
    "    'msg':msg,\n",
    "    'header_tokens':header_tokens,\n",
    "    'msg_tokens':msg_tokens})\n",
    "df.to_csv('./hadoop_parsed.csv')"
   ]
  },
  {
   "cell_type": "code",
   "execution_count": 140,
   "metadata": {
    "tags": []
   },
   "outputs": [
    {
     "output_type": "stream",
     "name": "stdout",
     "text": [
      "[['Client', '<O>'], ['environment', '<O>'], [':', '<O>'], ['java.library.path', '<O>'], ['=', '<O>'], ['/usr/java/packages/lib/amd64:/usr/lib64:/lib64:/lib', '<PATH>'], [':', '<O>'], ['/usr/lib', '<PATH>'], ['(', '<O>'], ['org.apache.zookeeper.ZooKeeper', '<CLS>'], [')', '<O>']]\n\n[['Client', '<O>'], ['environment', '<O>'], [':', '<O>'], ['java.io.tmpdir', '<O>'], ['=', '<O>'], ['/tmp', '<PATH>'], ['(', '<O>'], ['org.apache.zookeeper.ZooKeeper', '<CLS>'], [')', '<O>']]\n\n[['Client', '<O>'], ['environment', '<O>'], [':', '<O>'], ['java.compiler', '<O>'], ['=', '<O>'], ['<NA>', '<O>'], ['(', '<O>'], ['org.apache.zookeeper.ZooKeeper', '<CLS>'], [')', '<O>']]\n\n[['Client', '<O>'], ['environment', '<O>'], [':', '<O>'], ['os.name', '<O>'], ['=', '<O>'], ['Linux', '<O>'], ['(', '<O>'], ['org.apache.zookeeper.ZooKeeper', '<CLS>'], [')', '<O>']]\n\n[['Client', '<O>'], ['environment', '<O>'], [':', '<O>'], ['os.arch', '<O>'], ['=', '<O>'], ['amd64', '<O>'], ['(', '<O>'], ['org.apache.zookeeper.ZooKeeper', '<CLS>'], [')', '<O>']]\n\n[['Client', '<O>'], ['environment', '<O>'], [':', '<O>'], ['os.version', '<O>'], ['=', '<O>'], ['3.10.0-862.14.4.el7.x86_64', '<O>'], ['(', '<O>'], ['org.apache.zookeeper.ZooKeeper', '<CLS>'], [')', '<O>']]\n\n[['Client', '<O>'], ['environment', '<O>'], [':', '<O>'], ['user.name', '<O>'], ['=', '<O>'], ['root', '<O>'], ['(', '<O>'], ['org.apache.zookeeper.ZooKeeper', '<CLS>'], [')', '<O>']]\n\n[['Client', '<O>'], ['environment', '<O>'], [':', '<O>'], ['user.home', '<O>'], ['=', '<O>'], ['/root', '<PATH>'], ['(', '<O>'], ['org.apache.zookeeper.ZooKeeper', '<CLS>'], [')', '<O>']]\n\n[['Client', '<O>'], ['environment', '<O>'], [':', '<O>'], ['user.dir', '<O>'], ['=', '<O>'], ['/data/app', '<PATH>'], ['(', '<O>'], ['org.apache.zookeeper.ZooKeeper', '<CLS>'], [')', '<O>']]\n\n[['Initiating', '<O>'], ['client', '<O>'], ['connection', '<O>'], [',', '<O>'], ['connectString', '<O>'], ['=', '<O>'], ['tsb-hw-prod-ckkafka1:2181', '<HOST>'], [',', '<O>'], ['tsb-hw-prod-ckkafka2:2181', '<HOST>'], [',', '<O>'], ['tsb-hw-prod-ckkafka3:2181', '<HOST>'], ['sessionTimeout', '<O>'], ['=', '<O>'], ['6000', '<O>'], ['watcher', '<O>'], ['=', '<O>'], ['kafka.zookeeper.ZooKeeperClient$ZooKeeperClientWatcher$@6e4784bc', '<CLS>'], ['(', '<O>'], ['org.apache.zookeeper.ZooKeeper', '<CLS>'], [')', '<O>']]\n\n"
     ]
    }
   ],
   "source": [
    "for line in df.msg_anno[10:20]:\n",
    "    print(str(line)+'\\n')"
   ]
  },
  {
   "cell_type": "code",
   "execution_count": 22,
   "metadata": {},
   "outputs": [
    {
     "output_type": "execute_result",
     "data": {
      "text/plain": [
       "'2015-10-18 18:08:28,662 ERROR [RMCommunicator Allocator] org.apache.hadoop.mapreduce.v2.app.rm.RMContainerAllocator: ERROR IN CONTACTING RM.'"
      ]
     },
     "metadata": {},
     "execution_count": 22
    }
   ],
   "source": [
    "text"
   ]
  },
  {
   "cell_type": "code",
   "execution_count": 31,
   "metadata": {},
   "outputs": [],
   "source": [
    "from nltk import word_tokenize\n",
    "from nltk import sent_tokenize"
   ]
  },
  {
   "cell_type": "code",
   "execution_count": 36,
   "metadata": {},
   "outputs": [
    {
     "output_type": "stream",
     "name": "stdout",
     "text": [
      "['nova-api.log.1.2017-05-16_13:53:08', '2017-05-16', '00:02:55.621', '25743', 'INFO', 'nova.api.openstack.compute.server_external_events', '[', 'req-e265ea4c-ba4b-44f0-b086-7420e34e17cb', 'f7b8d1f1d4d44643b07fa10ca7d021fb', 'e9746973ac574c6b8a9e8857f56a7608', '-', '-', '-', ']', 'Creating', 'event', 'network-vif-plugged:1cf11429-1563-4f6c-823c-91ba6e0f6675', 'for', 'instance', '95960536-049b-41f6-9049-05fc479b6a7c']\n"
     ]
    }
   ],
   "source": [
    "s='nova-api.log.1.2017-05-16_13:53:08 2017-05-16 00:02:55.621 25743 INFO nova.api.openstack.compute.server_external_events [req-e265ea4c-ba4b-44f0-b086-7420e34e17cb f7b8d1f1d4d44643b07fa10ca7d021fb e9746973ac574c6b8a9e8857f56a7608 - - -] Creating event network-vif-plugged:1cf11429-1563-4f6c-823c-91ba6e0f6675 for instance 95960536-049b-41f6-9049-05fc479b6a7c'\n",
    "print(word_tokenize(s))"
   ]
  },
  {
   "cell_type": "code",
   "execution_count": null,
   "metadata": {},
   "outputs": [],
   "source": []
  }
 ]
}