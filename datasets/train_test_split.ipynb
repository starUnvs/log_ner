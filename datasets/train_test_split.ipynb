{
 "metadata": {
  "language_info": {
   "codemirror_mode": {
    "name": "ipython",
    "version": 3
   },
   "file_extension": ".py",
   "mimetype": "text/x-python",
   "name": "python",
   "nbconvert_exporter": "python",
   "pygments_lexer": "ipython3",
   "version": "3.8.10"
  },
  "orig_nbformat": 4,
  "kernelspec": {
   "name": "python3",
   "display_name": "Python 3.8.10 64-bit ('sid': conda)"
  },
  "interpreter": {
   "hash": "837e0a21b5e9228099062a9dae5fb2aa35e7ac1e3ac632d911fe66cd8bbd802f"
  }
 },
 "nbformat": 4,
 "nbformat_minor": 2,
 "cells": [
  {
   "cell_type": "code",
   "execution_count": 1,
   "source": [
    "import glob\n",
    "import pandas as pd"
   ],
   "outputs": [],
   "metadata": {}
  },
  {
   "cell_type": "code",
   "execution_count": 2,
   "source": [
    "paths=glob.glob('./*/*_ds.csv')"
   ],
   "outputs": [],
   "metadata": {}
  },
  {
   "cell_type": "code",
   "execution_count": 3,
   "source": [
    "train_set=[]\n",
    "test_set=[]\n",
    "for fpath in paths:\n",
    "    df=pd.read_csv(fpath,index_col=0).drop_duplicates().sample(10000)\n",
    "    train_df=df.sample(8000)\n",
    "    test_df=pd.concat([train_df,df]).drop_duplicates(keep=False)\n",
    "\n",
    "    train_set.append(train_df)\n",
    "    test_set.append(test_df)"
   ],
   "outputs": [],
   "metadata": {}
  },
  {
   "cell_type": "code",
   "execution_count": 5,
   "source": [
    "train_set[0]"
   ],
   "outputs": [
    {
     "output_type": "execute_result",
     "data": {
      "text/plain": [
       "                                                  tokens  \\\n",
       "19072  ['蚂', '蚁', '金', '融', '科', '技', '监', '控', ',', ...   \n",
       "18220  ['蚂', '蚁', '金', '融', '科', '技', '核', '心', '态', ...   \n",
       "15460  ['新', '手', '机', '银', '行', '交', '易', '耗', '时', ...   \n",
       "11938  ['[', 'ESB1097', ']', 'ESB', '请', '求', 'dx', '...   \n",
       "14523  ['[', 'TELJVM01', ']', '2020-06-06', ' ', '10:...   \n",
       "...                                                  ...   \n",
       "12186  ['[', '000173', ']', 'ICBS_X49', '通', '用', '文'...   \n",
       "5433   ['新', '手', '机', '银', '行', '告', '警', ',', '失', ...   \n",
       "8676   ['[', '000173', ']', 'WYTOWZH', '通', '用', '文',...   \n",
       "3860   ['蚂', '蚁', '金', '融', '科', '技', '核', '心', '态', ...   \n",
       "15689  ['[', '000173', ']', 'BATCHWYTOWZH', '通', '用',...   \n",
       "\n",
       "                                                    tags  \\\n",
       "19072  ['O', 'O', 'O', 'O', 'O', 'O', 'O', 'O', 'O', ...   \n",
       "18220  ['O', 'O', 'O', 'O', 'O', 'O', 'O', 'O', 'O', ...   \n",
       "15460  ['O', 'O', 'O', 'O', 'O', 'O', 'O', 'O', 'O', ...   \n",
       "11938  ['O', 'O', 'O', 'O', 'O', 'O', 'O', 'O', 'O', ...   \n",
       "14523  ['O', 'O', 'O', 'B-DATE', 'O', 'B-TIME', 'O', ...   \n",
       "...                                                  ...   \n",
       "12186  ['O', 'O', 'O', 'O', 'O', 'O', 'O', 'O', 'O', ...   \n",
       "5433   ['O', 'O', 'O', 'O', 'O', 'O', 'O', 'O', 'O', ...   \n",
       "8676   ['O', 'O', 'O', 'O', 'O', 'O', 'O', 'O', 'O', ...   \n",
       "3860   ['O', 'O', 'O', 'O', 'O', 'O', 'O', 'O', 'O', ...   \n",
       "15689  ['O', 'O', 'O', 'O', 'O', 'O', 'O', 'O', 'O', ...   \n",
       "\n",
       "                                                 raw_log  \n",
       "19072  蚂蚁金融科技监控,您的ACS（prd-ibs-log-1-4）在租户(金融云租户)的工作环境...  \n",
       "18220  蚂蚁金融科技核心态监控antstackantstack,您的ACS（/192.168.80....  \n",
       "15460  新手机银行交易耗时告警,最近两小时message交易超过4秒的交易笔数为[16],于2020...  \n",
       "11938         [ESB1097]ESB请求dx失败，请检查dx是否正常[1]次[20:03:21]  \n",
       "14523  [TELJVM01]2020-06-06 10:02:53,zx-teller4永久代内存达...  \n",
       "...                                                  ...  \n",
       "12186  [000173]ICBS_X49通用文件传输异常:Source '/sharedir/icb...  \n",
       "5433   新手机银行告警,失败量为0或增幅超30.00%,[2020-06-03 22:15:00]至...  \n",
       "8676   [000173]WYTOWZH通用文件传输异常:/sharedir/dxdir_paperl...  \n",
       "3860   蚂蚁金融科技核心态监控antstackantstack,您的ACS（/192.168.80....  \n",
       "15689  [000173]BATCHWYTOWZH通用文件传输异常:/sharedir/dxdir_p...  \n",
       "\n",
       "[8000 rows x 3 columns]"
      ],
      "text/html": [
       "<div>\n",
       "<style scoped>\n",
       "    .dataframe tbody tr th:only-of-type {\n",
       "        vertical-align: middle;\n",
       "    }\n",
       "\n",
       "    .dataframe tbody tr th {\n",
       "        vertical-align: top;\n",
       "    }\n",
       "\n",
       "    .dataframe thead th {\n",
       "        text-align: right;\n",
       "    }\n",
       "</style>\n",
       "<table border=\"1\" class=\"dataframe\">\n",
       "  <thead>\n",
       "    <tr style=\"text-align: right;\">\n",
       "      <th></th>\n",
       "      <th>tokens</th>\n",
       "      <th>tags</th>\n",
       "      <th>raw_log</th>\n",
       "    </tr>\n",
       "  </thead>\n",
       "  <tbody>\n",
       "    <tr>\n",
       "      <th>19072</th>\n",
       "      <td>['蚂', '蚁', '金', '融', '科', '技', '监', '控', ',', ...</td>\n",
       "      <td>['O', 'O', 'O', 'O', 'O', 'O', 'O', 'O', 'O', ...</td>\n",
       "      <td>蚂蚁金融科技监控,您的ACS（prd-ibs-log-1-4）在租户(金融云租户)的工作环境...</td>\n",
       "    </tr>\n",
       "    <tr>\n",
       "      <th>18220</th>\n",
       "      <td>['蚂', '蚁', '金', '融', '科', '技', '核', '心', '态', ...</td>\n",
       "      <td>['O', 'O', 'O', 'O', 'O', 'O', 'O', 'O', 'O', ...</td>\n",
       "      <td>蚂蚁金融科技核心态监控antstackantstack,您的ACS（/192.168.80....</td>\n",
       "    </tr>\n",
       "    <tr>\n",
       "      <th>15460</th>\n",
       "      <td>['新', '手', '机', '银', '行', '交', '易', '耗', '时', ...</td>\n",
       "      <td>['O', 'O', 'O', 'O', 'O', 'O', 'O', 'O', 'O', ...</td>\n",
       "      <td>新手机银行交易耗时告警,最近两小时message交易超过4秒的交易笔数为[16],于2020...</td>\n",
       "    </tr>\n",
       "    <tr>\n",
       "      <th>11938</th>\n",
       "      <td>['[', 'ESB1097', ']', 'ESB', '请', '求', 'dx', '...</td>\n",
       "      <td>['O', 'O', 'O', 'O', 'O', 'O', 'O', 'O', 'O', ...</td>\n",
       "      <td>[ESB1097]ESB请求dx失败，请检查dx是否正常[1]次[20:03:21]</td>\n",
       "    </tr>\n",
       "    <tr>\n",
       "      <th>14523</th>\n",
       "      <td>['[', 'TELJVM01', ']', '2020-06-06', ' ', '10:...</td>\n",
       "      <td>['O', 'O', 'O', 'B-DATE', 'O', 'B-TIME', 'O', ...</td>\n",
       "      <td>[TELJVM01]2020-06-06 10:02:53,zx-teller4永久代内存达...</td>\n",
       "    </tr>\n",
       "    <tr>\n",
       "      <th>...</th>\n",
       "      <td>...</td>\n",
       "      <td>...</td>\n",
       "      <td>...</td>\n",
       "    </tr>\n",
       "    <tr>\n",
       "      <th>12186</th>\n",
       "      <td>['[', '000173', ']', 'ICBS_X49', '通', '用', '文'...</td>\n",
       "      <td>['O', 'O', 'O', 'O', 'O', 'O', 'O', 'O', 'O', ...</td>\n",
       "      <td>[000173]ICBS_X49通用文件传输异常:Source '/sharedir/icb...</td>\n",
       "    </tr>\n",
       "    <tr>\n",
       "      <th>5433</th>\n",
       "      <td>['新', '手', '机', '银', '行', '告', '警', ',', '失', ...</td>\n",
       "      <td>['O', 'O', 'O', 'O', 'O', 'O', 'O', 'O', 'O', ...</td>\n",
       "      <td>新手机银行告警,失败量为0或增幅超30.00%,[2020-06-03 22:15:00]至...</td>\n",
       "    </tr>\n",
       "    <tr>\n",
       "      <th>8676</th>\n",
       "      <td>['[', '000173', ']', 'WYTOWZH', '通', '用', '文',...</td>\n",
       "      <td>['O', 'O', 'O', 'O', 'O', 'O', 'O', 'O', 'O', ...</td>\n",
       "      <td>[000173]WYTOWZH通用文件传输异常:/sharedir/dxdir_paperl...</td>\n",
       "    </tr>\n",
       "    <tr>\n",
       "      <th>3860</th>\n",
       "      <td>['蚂', '蚁', '金', '融', '科', '技', '核', '心', '态', ...</td>\n",
       "      <td>['O', 'O', 'O', 'O', 'O', 'O', 'O', 'O', 'O', ...</td>\n",
       "      <td>蚂蚁金融科技核心态监控antstackantstack,您的ACS（/192.168.80....</td>\n",
       "    </tr>\n",
       "    <tr>\n",
       "      <th>15689</th>\n",
       "      <td>['[', '000173', ']', 'BATCHWYTOWZH', '通', '用',...</td>\n",
       "      <td>['O', 'O', 'O', 'O', 'O', 'O', 'O', 'O', 'O', ...</td>\n",
       "      <td>[000173]BATCHWYTOWZH通用文件传输异常:/sharedir/dxdir_p...</td>\n",
       "    </tr>\n",
       "  </tbody>\n",
       "</table>\n",
       "<p>8000 rows × 3 columns</p>\n",
       "</div>"
      ]
     },
     "metadata": {},
     "execution_count": 5
    }
   ],
   "metadata": {}
  },
  {
   "cell_type": "code",
   "execution_count": 9,
   "source": [
    "train=pd.concat(train_set,ignore_index=True)"
   ],
   "outputs": [],
   "metadata": {}
  },
  {
   "cell_type": "code",
   "execution_count": 10,
   "source": [
    "test=pd.concat(test_set,ignore_index=True)"
   ],
   "outputs": [],
   "metadata": {}
  },
  {
   "cell_type": "code",
   "execution_count": 30,
   "source": [
    "train.to_csv('./train_full.csv')\n",
    "test.to_csv('./test_full.csv')"
   ],
   "outputs": [],
   "metadata": {}
  },
  {
   "cell_type": "code",
   "execution_count": null,
   "source": [],
   "outputs": [],
   "metadata": {}
  }
 ]
}