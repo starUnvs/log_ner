{
 "metadata": {
  "language_info": {
   "codemirror_mode": {
    "name": "ipython",
    "version": 3
   },
   "file_extension": ".py",
   "mimetype": "text/x-python",
   "name": "python",
   "nbconvert_exporter": "python",
   "pygments_lexer": "ipython3",
   "version": "3.7.10"
  },
  "orig_nbformat": 2,
  "kernelspec": {
   "name": "python3710jvsc74a57bd092b177ae525d99aefec57d1e05087defe35c515de2a950e481ffeaeb3a04b84b",
   "display_name": "Python 3.7.10 64-bit ('torch': conda)"
  }
 },
 "nbformat": 4,
 "nbformat_minor": 2,
 "cells": [
  {
   "cell_type": "code",
   "execution_count": 1,
   "metadata": {},
   "outputs": [],
   "source": [
    "import re\n",
    "import pandas as pd"
   ]
  },
  {
   "cell_type": "code",
   "execution_count": 2,
   "metadata": {},
   "outputs": [],
   "source": [
    "text='[Tue Nov 29 21:33:23 2005] [error] [client 148.233.91.2] script not found or unable to stat: /var/www/cgi-bin/ip.cgi'"
   ]
  },
  {
   "cell_type": "code",
   "execution_count": 3,
   "metadata": {},
   "outputs": [],
   "source": [
    "h,m=re.match(r'(.*\\])(.*)',text).groups()"
   ]
  },
  {
   "cell_type": "code",
   "execution_count": 5,
   "metadata": {},
   "outputs": [
    {
     "output_type": "execute_result",
     "data": {
      "text/plain": [
       "['[',\n",
       " 'Tue',\n",
       " 'Nov',\n",
       " '29',\n",
       " '21:33:23',\n",
       " '2005',\n",
       " ']',\n",
       " '[',\n",
       " 'error',\n",
       " ']',\n",
       " '[',\n",
       " 'client',\n",
       " '148.233.91.2',\n",
       " ']']"
      ]
     },
     "metadata": {},
     "execution_count": 5
    }
   ],
   "source": [
    "[token for token in re.split(r'(\\[|\\])|\\s|((?<!\\d\\d)\\:)',h) if token!='' and token!=None]"
   ]
  },
  {
   "cell_type": "code",
   "execution_count": 6,
   "metadata": {},
   "outputs": [
    {
     "output_type": "execute_result",
     "data": {
      "text/plain": [
       "['script',\n",
       " 'not',\n",
       " 'found',\n",
       " 'or',\n",
       " 'unable',\n",
       " 'to',\n",
       " 'stat',\n",
       " ':',\n",
       " '/var/www/cgi-bin/ip.cgi']"
      ]
     },
     "metadata": {},
     "execution_count": 6
    }
   ],
   "source": [
    "[token for token in re.split(r'(\\[|\\])|\\s|((?<!\\d\\d)\\:)',m) if token!='' and token!=None]"
   ]
  },
  {
   "cell_type": "code",
   "execution_count": 7,
   "metadata": {},
   "outputs": [],
   "source": [
    "f=open('./apache_15k.log')\n",
    "lines=f.readlines()"
   ]
  },
  {
   "cell_type": "code",
   "execution_count": 8,
   "metadata": {},
   "outputs": [],
   "source": [
    "header=[]\n",
    "msg=[]\n",
    "for line in lines:\n",
    "    h,m=re.match(r'(.*\\])(.*)',line).groups()\n",
    "    header.append(h.strip())\n",
    "    msg.append(m.strip())"
   ]
  },
  {
   "cell_type": "code",
   "execution_count": 9,
   "metadata": {},
   "outputs": [],
   "source": [
    "header_tokens=[]\n",
    "for h in header:\n",
    "    tokens=[token for token in re.split(r'(\\[|\\])|\\s|((?<!\\d\\d)\\:)',h) if token!='' and token!=None]\n",
    "    header_tokens.append(tokens)"
   ]
  },
  {
   "cell_type": "code",
   "execution_count": 10,
   "metadata": {},
   "outputs": [],
   "source": [
    "msg_tokens=[]\n",
    "for m in msg:\n",
    "    tokens=[token for token in re.split(r'\\[|\\]|\\s|((?<!\\d\\d)\\:(?!\\/\\/))',m) if token!='' and token!=None]\n",
    "    msg_tokens.append(tokens)"
   ]
  },
  {
   "cell_type": "code",
   "execution_count": 12,
   "metadata": {},
   "outputs": [],
   "source": [
    "df=pd.DataFrame({'header':header,'msg':msg,'header_tokens':header_tokens,'msg_tokens':msg_tokens})"
   ]
  },
  {
   "cell_type": "code",
   "execution_count": 14,
   "metadata": {},
   "outputs": [],
   "source": [
    "df.to_csv('./apache_parsed.csv')"
   ]
  },
  {
   "cell_type": "code",
   "execution_count": 15,
   "metadata": {},
   "outputs": [],
   "source": [
    "header_anno=[]\n",
    "for tokens in header_tokens:\n",
    "    anno=[[token,'<O>'] for token in tokens]\n",
    "    anno[1][1],anno[2][1],anno[3][1],anno[4][1],anno[8][1]='<DATE>','<DATE>','<DATE>','<TIME>','<LVL>'\n",
    "\n",
    "    header_anno.append(anno)"
   ]
  },
  {
   "cell_type": "code",
   "execution_count": 16,
   "metadata": {},
   "outputs": [
    {
     "output_type": "execute_result",
     "data": {
      "text/plain": [
       "[['[', '<O>'],\n",
       " ['Fri', '<DATE>'],\n",
       " ['Feb', '<DATE>'],\n",
       " ['24', '<DATE>'],\n",
       " ['17:07:21', '<TIME>'],\n",
       " ['2006', '<O>'],\n",
       " [']', '<O>'],\n",
       " ['[', '<O>'],\n",
       " ['error', '<LVL>'],\n",
       " [']', '<O>'],\n",
       " ['[', '<O>'],\n",
       " ['client', '<O>'],\n",
       " ['85.214.20.161', '<O>'],\n",
       " [']', '<O>']]"
      ]
     },
     "metadata": {},
     "execution_count": 16
    }
   ],
   "source": [
    "header_anno[0]"
   ]
  },
  {
   "cell_type": "code",
   "execution_count": 17,
   "metadata": {},
   "outputs": [],
   "source": [
    "def sub_tag(series, patt_tag_list):\n",
    "    def _sub_tag(series, patt, tag):\n",
    "        for line in series:\n",
    "            for pair in line:\n",
    "                if re.search(patt,pair[0]):\n",
    "                    pair[1]=tag\n",
    "    for patt,tag in patt_tag_list:\n",
    "        _sub_tag(series,patt,tag)"
   ]
  },
  {
   "cell_type": "code",
   "execution_count": 18,
   "metadata": {},
   "outputs": [],
   "source": [
    "msg_anno=[]\n",
    "for tokens in msg_tokens:\n",
    "    anno=[[token,'<O>'] for token in tokens]\n",
    "\n",
    "    msg_anno.append(anno)"
   ]
  },
  {
   "cell_type": "code",
   "execution_count": 19,
   "metadata": {},
   "outputs": [],
   "source": [
    "re_date=r'\\d{2}\\/\\d{2}\\/\\d{4}'\n",
    "re_time=r'^\\d{2}:\\d{2}$'\n",
    "\n",
    "re_obj=r'[a-zA-Z]+-\\d{1,3}$'\n",
    "re_cls=r'(\\.([A-Z]+[a-z]*)+)|([A-Z]+[a-z]+){2,}'\n",
    "re_func=r'\\S*\\(\\)$'\n",
    "re_path=r'^\\'?\\/'\n",
    "\n",
    "re_host=r':\\d{3,5}$'\n",
    "re_url=r'[a-z]+:\\/\\/\\S*'\n"
   ]
  },
  {
   "cell_type": "code",
   "execution_count": 20,
   "metadata": {},
   "outputs": [],
   "source": [
    "sub_tag(msg_anno,\n",
    "    [(re_cls,'<CLS>'),\n",
    "    (re_func,'<FUNC>'),\n",
    "    (re_path,'<PATH>'),\n",
    "    (re_host,'<HOST>'),\n",
    "    (re_url,'<URL>')])"
   ]
  },
  {
   "cell_type": "code",
   "execution_count": 22,
   "metadata": {},
   "outputs": [],
   "source": [
    "df=pd.DataFrame({\n",
    "    'msg_anno':msg_anno,\n",
    "    'header_anno':header_anno,\n",
    "    'header':header,\n",
    "    'msg':msg,\n",
    "    'header_tokens':header_tokens,\n",
    "    'msg_tokens':msg_tokens})\n",
    "df.to_csv('./apache_parsed.csv')"
   ]
  },
  {
   "cell_type": "code",
   "execution_count": 23,
   "metadata": {
    "tags": []
   },
   "outputs": [
    {
     "output_type": "stream",
     "name": "stdout",
     "text": [
      "[['File', '<O>'], ['does', '<O>'], ['not', '<O>'], ['exist', '<O>'], [':', '<O>'], ['/var/www/html/blog', '<PATH>']]\n\n[['File', '<O>'], ['does', '<O>'], ['not', '<O>'], ['exist', '<O>'], [':', '<O>'], ['/var/www/html/stat-cgi', '<PATH>']]\n\n[['mod_jk', '<O>'], ['child', '<O>'], ['init', '<O>'], ['1', '<O>'], ['-2', '<O>']]\n\n[['workerEnv.init()', '<FUNC>'], ['ok', '<O>'], ['/etc/httpd/conf/workers2.properties', '<PATH>']]\n\n[['File', '<O>'], ['does', '<O>'], ['not', '<O>'], ['exist', '<O>'], [':', '<O>'], ['/var/www/html/cache', '<PATH>']]\n\n[['mod_jk2', '<O>'], ['Shutting', '<O>'], ['down', '<O>']]\n\n[['File', '<O>'], ['does', '<O>'], ['not', '<O>'], ['exist', '<O>'], [':', '<O>'], ['/var/www/html/cvs', '<PATH>']]\n\n[['File', '<O>'], ['does', '<O>'], ['not', '<O>'], ['exist', '<O>'], [':', '<O>'], ['/var/www/html/blog', '<PATH>']]\n\n[['jk2_init()', '<FUNC>'], ['Found', '<O>'], ['child', '<O>'], ['6968', '<O>'], ['in', '<O>'], ['scoreboard', '<O>'], ['slot', '<O>'], ['1', '<O>']]\n\n[['jk2_init()', '<FUNC>'], ['Found', '<O>'], ['child', '<O>'], ['29339', '<O>'], ['in', '<O>'], ['scoreboard', '<O>'], ['slot', '<O>'], ['4', '<O>']]\n\n"
     ]
    }
   ],
   "source": [
    "for line in df.msg_anno[10:20]:\n",
    "    print(str(line)+'\\n')"
   ]
  }
 ]
}